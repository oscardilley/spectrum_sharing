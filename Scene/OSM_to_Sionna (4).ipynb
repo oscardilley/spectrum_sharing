{
  "cells": [
    {
      "cell_type": "markdown",
      "id": "bee31086-45ff-4702-b152-6c6fe6e8b45e",
      "metadata": {
        "id": "bee31086-45ff-4702-b152-6c6fe6e8b45e"
      },
      "source": [
        "### Introduction"
      ]
    },
    {
      "cell_type": "markdown",
      "id": "3f0c915f-baaa-4019-b5ba-0c58b2565b93",
      "metadata": {
        "id": "3f0c915f-baaa-4019-b5ba-0c58b2565b93"
      },
      "source": [
        "This notebook creates a Sionna Scene (https://nvlabs.github.io/sionna/api/rt.html#scene) using openstreetmap. This can be used as an alternative to exporting scene from Blender (https://www.youtube.com/watch?v=7xHLDxUaQ7c).\n",
        "\n",
        "Very usefully provided by: https://github.com/manoj-kumar-joshi/sionna_osm_scene "
      ]
    },
    {
      "cell_type": "code",
      "execution_count": 98,
      "id": "p7OlnFp6oS1j",
      "metadata": {
        "colab": {
          "base_uri": "https://localhost:8080/"
        },
        "id": "p7OlnFp6oS1j",
        "outputId": "2f99a7f4-c241-4c2e-918d-9f24cdd52cbf"
      },
      "outputs": [
        {
          "name": "stdout",
          "output_type": "stream",
          "text": [
            "Requirement already satisfied: ipyvolume in /usr/local/lib/python3.11/dist-packages (0.6.3)\n",
            "Requirement already satisfied: ipywidgets>=7.0.0 in /usr/local/lib/python3.11/dist-packages (from ipyvolume) (8.1.5)\n",
            "Requirement already satisfied: bqplot in /usr/local/lib/python3.11/dist-packages (from ipyvolume) (0.12.44)\n",
            "Requirement already satisfied: numpy in /usr/local/lib/python3.11/dist-packages (from ipyvolume) (1.26.4)\n",
            "Requirement already satisfied: traittypes in /usr/local/lib/python3.11/dist-packages (from ipyvolume) (0.2.1)\n",
            "Requirement already satisfied: traitlets in /usr/local/lib/python3.11/dist-packages (from ipyvolume) (5.7.1)\n",
            "Requirement already satisfied: Pillow in /usr/local/lib/python3.11/dist-packages (from ipyvolume) (11.1.0)\n",
            "Requirement already satisfied: ipywebrtc in /usr/local/lib/python3.11/dist-packages (from ipyvolume) (0.6.0)\n",
            "Requirement already satisfied: requests in /usr/local/lib/python3.11/dist-packages (from ipyvolume) (2.32.3)\n",
            "Requirement already satisfied: ipyvuetify in /usr/local/lib/python3.11/dist-packages (from ipyvolume) (1.10.0)\n",
            "Requirement already satisfied: ipyvue>=1.7.0 in /usr/local/lib/python3.11/dist-packages (from ipyvolume) (1.11.2)\n",
            "Requirement already satisfied: pythreejs>=2.4.0 in /usr/local/lib/python3.11/dist-packages (from ipyvolume) (2.4.2)\n",
            "Requirement already satisfied: matplotlib in /usr/local/lib/python3.11/dist-packages (from ipyvolume) (3.10.0)\n",
            "Requirement already satisfied: comm>=0.1.3 in /usr/local/lib/python3.11/dist-packages (from ipywidgets>=7.0.0->ipyvolume) (0.2.2)\n",
            "Requirement already satisfied: ipython>=6.1.0 in /usr/local/lib/python3.11/dist-packages (from ipywidgets>=7.0.0->ipyvolume) (7.34.0)\n",
            "Requirement already satisfied: widgetsnbextension~=4.0.12 in /usr/local/lib/python3.11/dist-packages (from ipywidgets>=7.0.0->ipyvolume) (4.0.13)\n",
            "Requirement already satisfied: jupyterlab-widgets~=3.0.12 in /usr/local/lib/python3.11/dist-packages (from ipywidgets>=7.0.0->ipyvolume) (3.0.13)\n",
            "Requirement already satisfied: ipydatawidgets>=1.1.1 in /usr/local/lib/python3.11/dist-packages (from pythreejs>=2.4.0->ipyvolume) (4.3.5)\n",
            "Requirement already satisfied: pandas<3.0.0,>=1.0.0 in /usr/local/lib/python3.11/dist-packages (from bqplot->ipyvolume) (2.2.2)\n",
            "Requirement already satisfied: contourpy>=1.0.1 in /usr/local/lib/python3.11/dist-packages (from matplotlib->ipyvolume) (1.3.1)\n",
            "Requirement already satisfied: cycler>=0.10 in /usr/local/lib/python3.11/dist-packages (from matplotlib->ipyvolume) (0.12.1)\n",
            "Requirement already satisfied: fonttools>=4.22.0 in /usr/local/lib/python3.11/dist-packages (from matplotlib->ipyvolume) (4.55.7)\n",
            "Requirement already satisfied: kiwisolver>=1.3.1 in /usr/local/lib/python3.11/dist-packages (from matplotlib->ipyvolume) (1.4.8)\n",
            "Requirement already satisfied: packaging>=20.0 in /usr/local/lib/python3.11/dist-packages (from matplotlib->ipyvolume) (24.2)\n",
            "Requirement already satisfied: pyparsing>=2.3.1 in /usr/local/lib/python3.11/dist-packages (from matplotlib->ipyvolume) (3.2.1)\n",
            "Requirement already satisfied: python-dateutil>=2.7 in /usr/local/lib/python3.11/dist-packages (from matplotlib->ipyvolume) (2.8.2)\n",
            "Requirement already satisfied: charset-normalizer<4,>=2 in /usr/local/lib/python3.11/dist-packages (from requests->ipyvolume) (3.4.1)\n",
            "Requirement already satisfied: idna<4,>=2.5 in /usr/local/lib/python3.11/dist-packages (from requests->ipyvolume) (3.10)\n",
            "Requirement already satisfied: urllib3<3,>=1.21.1 in /usr/local/lib/python3.11/dist-packages (from requests->ipyvolume) (2.3.0)\n",
            "Requirement already satisfied: certifi>=2017.4.17 in /usr/local/lib/python3.11/dist-packages (from requests->ipyvolume) (2024.12.14)\n",
            "Requirement already satisfied: setuptools>=18.5 in /usr/local/lib/python3.11/dist-packages (from ipython>=6.1.0->ipywidgets>=7.0.0->ipyvolume) (75.1.0)\n",
            "Requirement already satisfied: jedi>=0.16 in /usr/local/lib/python3.11/dist-packages (from ipython>=6.1.0->ipywidgets>=7.0.0->ipyvolume) (0.19.2)\n",
            "Requirement already satisfied: decorator in /usr/local/lib/python3.11/dist-packages (from ipython>=6.1.0->ipywidgets>=7.0.0->ipyvolume) (4.4.2)\n",
            "Requirement already satisfied: pickleshare in /usr/local/lib/python3.11/dist-packages (from ipython>=6.1.0->ipywidgets>=7.0.0->ipyvolume) (0.7.5)\n",
            "Requirement already satisfied: prompt-toolkit!=3.0.0,!=3.0.1,<3.1.0,>=2.0.0 in /usr/local/lib/python3.11/dist-packages (from ipython>=6.1.0->ipywidgets>=7.0.0->ipyvolume) (3.0.50)\n",
            "Requirement already satisfied: pygments in /usr/local/lib/python3.11/dist-packages (from ipython>=6.1.0->ipywidgets>=7.0.0->ipyvolume) (2.18.0)\n",
            "Requirement already satisfied: backcall in /usr/local/lib/python3.11/dist-packages (from ipython>=6.1.0->ipywidgets>=7.0.0->ipyvolume) (0.2.0)\n",
            "Requirement already satisfied: matplotlib-inline in /usr/local/lib/python3.11/dist-packages (from ipython>=6.1.0->ipywidgets>=7.0.0->ipyvolume) (0.1.7)\n",
            "Requirement already satisfied: pexpect>4.3 in /usr/local/lib/python3.11/dist-packages (from ipython>=6.1.0->ipywidgets>=7.0.0->ipyvolume) (4.9.0)\n",
            "Requirement already satisfied: pytz>=2020.1 in /usr/local/lib/python3.11/dist-packages (from pandas<3.0.0,>=1.0.0->bqplot->ipyvolume) (2024.2)\n",
            "Requirement already satisfied: tzdata>=2022.7 in /usr/local/lib/python3.11/dist-packages (from pandas<3.0.0,>=1.0.0->bqplot->ipyvolume) (2025.1)\n",
            "Requirement already satisfied: six>=1.5 in /usr/local/lib/python3.11/dist-packages (from python-dateutil>=2.7->matplotlib->ipyvolume) (1.17.0)\n",
            "Requirement already satisfied: parso<0.9.0,>=0.8.4 in /usr/local/lib/python3.11/dist-packages (from jedi>=0.16->ipython>=6.1.0->ipywidgets>=7.0.0->ipyvolume) (0.8.4)\n",
            "Requirement already satisfied: ptyprocess>=0.5 in /usr/local/lib/python3.11/dist-packages (from pexpect>4.3->ipython>=6.1.0->ipywidgets>=7.0.0->ipyvolume) (0.7.0)\n",
            "Requirement already satisfied: wcwidth in /usr/local/lib/python3.11/dist-packages (from prompt-toolkit!=3.0.0,!=3.0.1,<3.1.0,>=2.0.0->ipython>=6.1.0->ipywidgets>=7.0.0->ipyvolume) (0.2.13)\n",
            "Requirement already satisfied: ipyleaflet in /usr/local/lib/python3.11/dist-packages (0.19.2)\n",
            "Requirement already satisfied: branca>=0.5.0 in /usr/local/lib/python3.11/dist-packages (from ipyleaflet) (0.8.1)\n",
            "Requirement already satisfied: ipywidgets<9,>=7.6.0 in /usr/local/lib/python3.11/dist-packages (from ipyleaflet) (8.1.5)\n",
            "Requirement already satisfied: jupyter-leaflet<0.20,>=0.19 in /usr/local/lib/python3.11/dist-packages (from ipyleaflet) (0.19.2)\n",
            "Requirement already satisfied: traittypes<3,>=0.2.1 in /usr/local/lib/python3.11/dist-packages (from ipyleaflet) (0.2.1)\n",
            "Requirement already satisfied: xyzservices>=2021.8.1 in /usr/local/lib/python3.11/dist-packages (from ipyleaflet) (2025.1.0)\n",
            "Requirement already satisfied: jinja2>=3 in /usr/local/lib/python3.11/dist-packages (from branca>=0.5.0->ipyleaflet) (3.1.5)\n",
            "Requirement already satisfied: comm>=0.1.3 in /usr/local/lib/python3.11/dist-packages (from ipywidgets<9,>=7.6.0->ipyleaflet) (0.2.2)\n",
            "Requirement already satisfied: ipython>=6.1.0 in /usr/local/lib/python3.11/dist-packages (from ipywidgets<9,>=7.6.0->ipyleaflet) (7.34.0)\n",
            "Requirement already satisfied: traitlets>=4.3.1 in /usr/local/lib/python3.11/dist-packages (from ipywidgets<9,>=7.6.0->ipyleaflet) (5.7.1)\n",
            "Requirement already satisfied: widgetsnbextension~=4.0.12 in /usr/local/lib/python3.11/dist-packages (from ipywidgets<9,>=7.6.0->ipyleaflet) (4.0.13)\n",
            "Requirement already satisfied: jupyterlab-widgets~=3.0.12 in /usr/local/lib/python3.11/dist-packages (from ipywidgets<9,>=7.6.0->ipyleaflet) (3.0.13)\n",
            "Requirement already satisfied: setuptools>=18.5 in /usr/local/lib/python3.11/dist-packages (from ipython>=6.1.0->ipywidgets<9,>=7.6.0->ipyleaflet) (75.1.0)\n",
            "Requirement already satisfied: jedi>=0.16 in /usr/local/lib/python3.11/dist-packages (from ipython>=6.1.0->ipywidgets<9,>=7.6.0->ipyleaflet) (0.19.2)\n",
            "Requirement already satisfied: decorator in /usr/local/lib/python3.11/dist-packages (from ipython>=6.1.0->ipywidgets<9,>=7.6.0->ipyleaflet) (4.4.2)\n",
            "Requirement already satisfied: pickleshare in /usr/local/lib/python3.11/dist-packages (from ipython>=6.1.0->ipywidgets<9,>=7.6.0->ipyleaflet) (0.7.5)\n",
            "Requirement already satisfied: prompt-toolkit!=3.0.0,!=3.0.1,<3.1.0,>=2.0.0 in /usr/local/lib/python3.11/dist-packages (from ipython>=6.1.0->ipywidgets<9,>=7.6.0->ipyleaflet) (3.0.50)\n",
            "Requirement already satisfied: pygments in /usr/local/lib/python3.11/dist-packages (from ipython>=6.1.0->ipywidgets<9,>=7.6.0->ipyleaflet) (2.18.0)\n",
            "Requirement already satisfied: backcall in /usr/local/lib/python3.11/dist-packages (from ipython>=6.1.0->ipywidgets<9,>=7.6.0->ipyleaflet) (0.2.0)\n",
            "Requirement already satisfied: matplotlib-inline in /usr/local/lib/python3.11/dist-packages (from ipython>=6.1.0->ipywidgets<9,>=7.6.0->ipyleaflet) (0.1.7)\n",
            "Requirement already satisfied: pexpect>4.3 in /usr/local/lib/python3.11/dist-packages (from ipython>=6.1.0->ipywidgets<9,>=7.6.0->ipyleaflet) (4.9.0)\n",
            "Requirement already satisfied: MarkupSafe>=2.0 in /usr/local/lib/python3.11/dist-packages (from jinja2>=3->branca>=0.5.0->ipyleaflet) (3.0.2)\n",
            "Requirement already satisfied: parso<0.9.0,>=0.8.4 in /usr/local/lib/python3.11/dist-packages (from jedi>=0.16->ipython>=6.1.0->ipywidgets<9,>=7.6.0->ipyleaflet) (0.8.4)\n",
            "Requirement already satisfied: ptyprocess>=0.5 in /usr/local/lib/python3.11/dist-packages (from pexpect>4.3->ipython>=6.1.0->ipywidgets<9,>=7.6.0->ipyleaflet) (0.7.0)\n",
            "Requirement already satisfied: wcwidth in /usr/local/lib/python3.11/dist-packages (from prompt-toolkit!=3.0.0,!=3.0.1,<3.1.0,>=2.0.0->ipython>=6.1.0->ipywidgets<9,>=7.6.0->ipyleaflet) (0.2.13)\n",
            "Requirement already satisfied: pyvista in /usr/local/lib/python3.11/dist-packages (0.44.2)\n",
            "Requirement already satisfied: matplotlib>=3.0.1 in /usr/local/lib/python3.11/dist-packages (from pyvista) (3.10.0)\n",
            "Requirement already satisfied: numpy>=1.21.0 in /usr/local/lib/python3.11/dist-packages (from pyvista) (1.26.4)\n",
            "Requirement already satisfied: pillow in /usr/local/lib/python3.11/dist-packages (from pyvista) (11.1.0)\n",
            "Requirement already satisfied: pooch in /usr/local/lib/python3.11/dist-packages (from pyvista) (1.8.2)\n",
            "Requirement already satisfied: scooby>=0.5.1 in /usr/local/lib/python3.11/dist-packages (from pyvista) (0.10.0)\n",
            "Requirement already satisfied: vtk<9.4.0 in /usr/local/lib/python3.11/dist-packages (from pyvista) (9.3.1)\n",
            "Requirement already satisfied: typing-extensions in /usr/local/lib/python3.11/dist-packages (from pyvista) (4.12.2)\n",
            "Requirement already satisfied: contourpy>=1.0.1 in /usr/local/lib/python3.11/dist-packages (from matplotlib>=3.0.1->pyvista) (1.3.1)\n",
            "Requirement already satisfied: cycler>=0.10 in /usr/local/lib/python3.11/dist-packages (from matplotlib>=3.0.1->pyvista) (0.12.1)\n",
            "Requirement already satisfied: fonttools>=4.22.0 in /usr/local/lib/python3.11/dist-packages (from matplotlib>=3.0.1->pyvista) (4.55.7)\n",
            "Requirement already satisfied: kiwisolver>=1.3.1 in /usr/local/lib/python3.11/dist-packages (from matplotlib>=3.0.1->pyvista) (1.4.8)\n",
            "Requirement already satisfied: packaging>=20.0 in /usr/local/lib/python3.11/dist-packages (from matplotlib>=3.0.1->pyvista) (24.2)\n",
            "Requirement already satisfied: pyparsing>=2.3.1 in /usr/local/lib/python3.11/dist-packages (from matplotlib>=3.0.1->pyvista) (3.2.1)\n",
            "Requirement already satisfied: python-dateutil>=2.7 in /usr/local/lib/python3.11/dist-packages (from matplotlib>=3.0.1->pyvista) (2.8.2)\n",
            "Requirement already satisfied: platformdirs>=2.5.0 in /usr/local/lib/python3.11/dist-packages (from pooch->pyvista) (4.3.6)\n",
            "Requirement already satisfied: requests>=2.19.0 in /usr/local/lib/python3.11/dist-packages (from pooch->pyvista) (2.32.3)\n",
            "Requirement already satisfied: six>=1.5 in /usr/local/lib/python3.11/dist-packages (from python-dateutil>=2.7->matplotlib>=3.0.1->pyvista) (1.17.0)\n",
            "Requirement already satisfied: charset-normalizer<4,>=2 in /usr/local/lib/python3.11/dist-packages (from requests>=2.19.0->pooch->pyvista) (3.4.1)\n",
            "Requirement already satisfied: idna<4,>=2.5 in /usr/local/lib/python3.11/dist-packages (from requests>=2.19.0->pooch->pyvista) (3.10)\n",
            "Requirement already satisfied: urllib3<3,>=1.21.1 in /usr/local/lib/python3.11/dist-packages (from requests>=2.19.0->pooch->pyvista) (2.3.0)\n",
            "Requirement already satisfied: certifi>=2017.4.17 in /usr/local/lib/python3.11/dist-packages (from requests>=2.19.0->pooch->pyvista) (2024.12.14)\n",
            "Requirement already satisfied: osmnx in /usr/local/lib/python3.11/dist-packages (2.0.1)\n",
            "Requirement already satisfied: geopandas>=1.0 in /usr/local/lib/python3.11/dist-packages (from osmnx) (1.0.1)\n",
            "Requirement already satisfied: networkx>=2.5 in /usr/local/lib/python3.11/dist-packages (from osmnx) (3.4.2)\n",
            "Requirement already satisfied: numpy>=1.22 in /usr/local/lib/python3.11/dist-packages (from osmnx) (1.26.4)\n",
            "Requirement already satisfied: pandas>=1.4 in /usr/local/lib/python3.11/dist-packages (from osmnx) (2.2.2)\n",
            "Requirement already satisfied: requests>=2.27 in /usr/local/lib/python3.11/dist-packages (from osmnx) (2.32.3)\n",
            "Requirement already satisfied: shapely>=2.0 in /usr/local/lib/python3.11/dist-packages (from osmnx) (2.0.6)\n",
            "Requirement already satisfied: pyogrio>=0.7.2 in /usr/local/lib/python3.11/dist-packages (from geopandas>=1.0->osmnx) (0.10.0)\n",
            "Requirement already satisfied: packaging in /usr/local/lib/python3.11/dist-packages (from geopandas>=1.0->osmnx) (24.2)\n",
            "Requirement already satisfied: pyproj>=3.3.0 in /usr/local/lib/python3.11/dist-packages (from geopandas>=1.0->osmnx) (3.7.0)\n",
            "Requirement already satisfied: python-dateutil>=2.8.2 in /usr/local/lib/python3.11/dist-packages (from pandas>=1.4->osmnx) (2.8.2)\n",
            "Requirement already satisfied: pytz>=2020.1 in /usr/local/lib/python3.11/dist-packages (from pandas>=1.4->osmnx) (2024.2)\n",
            "Requirement already satisfied: tzdata>=2022.7 in /usr/local/lib/python3.11/dist-packages (from pandas>=1.4->osmnx) (2025.1)\n",
            "Requirement already satisfied: charset-normalizer<4,>=2 in /usr/local/lib/python3.11/dist-packages (from requests>=2.27->osmnx) (3.4.1)\n",
            "Requirement already satisfied: idna<4,>=2.5 in /usr/local/lib/python3.11/dist-packages (from requests>=2.27->osmnx) (3.10)\n",
            "Requirement already satisfied: urllib3<3,>=1.21.1 in /usr/local/lib/python3.11/dist-packages (from requests>=2.27->osmnx) (2.3.0)\n",
            "Requirement already satisfied: certifi>=2017.4.17 in /usr/local/lib/python3.11/dist-packages (from requests>=2.27->osmnx) (2024.12.14)\n",
            "Requirement already satisfied: six>=1.5 in /usr/local/lib/python3.11/dist-packages (from python-dateutil>=2.8.2->pandas>=1.4->osmnx) (1.17.0)\n",
            "Requirement already satisfied: open3d in /usr/local/lib/python3.11/dist-packages (0.19.0)\n",
            "Requirement already satisfied: numpy>=1.18.0 in /usr/local/lib/python3.11/dist-packages (from open3d) (1.26.4)\n",
            "Requirement already satisfied: dash>=2.6.0 in /usr/local/lib/python3.11/dist-packages (from open3d) (2.18.2)\n",
            "Requirement already satisfied: werkzeug>=3.0.0 in /usr/local/lib/python3.11/dist-packages (from open3d) (3.0.6)\n",
            "Requirement already satisfied: flask>=3.0.0 in /usr/local/lib/python3.11/dist-packages (from open3d) (3.0.3)\n",
            "Requirement already satisfied: nbformat>=5.7.0 in /usr/local/lib/python3.11/dist-packages (from open3d) (5.10.4)\n",
            "Requirement already satisfied: configargparse in /usr/local/lib/python3.11/dist-packages (from open3d) (1.7)\n",
            "Requirement already satisfied: ipywidgets>=8.0.4 in /usr/local/lib/python3.11/dist-packages (from open3d) (8.1.5)\n",
            "Requirement already satisfied: addict in /usr/local/lib/python3.11/dist-packages (from open3d) (2.4.0)\n",
            "Requirement already satisfied: pillow>=9.3.0 in /usr/local/lib/python3.11/dist-packages (from open3d) (11.1.0)\n",
            "Requirement already satisfied: matplotlib>=3 in /usr/local/lib/python3.11/dist-packages (from open3d) (3.10.0)\n",
            "Requirement already satisfied: pandas>=1.0 in /usr/local/lib/python3.11/dist-packages (from open3d) (2.2.2)\n",
            "Requirement already satisfied: pyyaml>=5.4.1 in /usr/local/lib/python3.11/dist-packages (from open3d) (6.0.2)\n",
            "Requirement already satisfied: scikit-learn>=0.21 in /usr/local/lib/python3.11/dist-packages (from open3d) (1.6.1)\n",
            "Requirement already satisfied: tqdm in /usr/local/lib/python3.11/dist-packages (from open3d) (4.67.1)\n",
            "Requirement already satisfied: pyquaternion in /usr/local/lib/python3.11/dist-packages (from open3d) (0.9.9)\n",
            "Requirement already satisfied: plotly>=5.0.0 in /usr/local/lib/python3.11/dist-packages (from dash>=2.6.0->open3d) (5.24.1)\n",
            "Requirement already satisfied: dash-html-components==2.0.0 in /usr/local/lib/python3.11/dist-packages (from dash>=2.6.0->open3d) (2.0.0)\n",
            "Requirement already satisfied: dash-core-components==2.0.0 in /usr/local/lib/python3.11/dist-packages (from dash>=2.6.0->open3d) (2.0.0)\n",
            "Requirement already satisfied: dash-table==5.0.0 in /usr/local/lib/python3.11/dist-packages (from dash>=2.6.0->open3d) (5.0.0)\n",
            "Requirement already satisfied: importlib-metadata in /usr/local/lib/python3.11/dist-packages (from dash>=2.6.0->open3d) (8.6.1)\n",
            "Requirement already satisfied: typing-extensions>=4.1.1 in /usr/local/lib/python3.11/dist-packages (from dash>=2.6.0->open3d) (4.12.2)\n",
            "Requirement already satisfied: requests in /usr/local/lib/python3.11/dist-packages (from dash>=2.6.0->open3d) (2.32.3)\n",
            "Requirement already satisfied: retrying in /usr/local/lib/python3.11/dist-packages (from dash>=2.6.0->open3d) (1.3.4)\n",
            "Requirement already satisfied: nest-asyncio in /usr/local/lib/python3.11/dist-packages (from dash>=2.6.0->open3d) (1.6.0)\n",
            "Requirement already satisfied: setuptools in /usr/local/lib/python3.11/dist-packages (from dash>=2.6.0->open3d) (75.1.0)\n",
            "Requirement already satisfied: Jinja2>=3.1.2 in /usr/local/lib/python3.11/dist-packages (from flask>=3.0.0->open3d) (3.1.5)\n",
            "Requirement already satisfied: itsdangerous>=2.1.2 in /usr/local/lib/python3.11/dist-packages (from flask>=3.0.0->open3d) (2.2.0)\n",
            "Requirement already satisfied: click>=8.1.3 in /usr/local/lib/python3.11/dist-packages (from flask>=3.0.0->open3d) (8.1.8)\n",
            "Requirement already satisfied: blinker>=1.6.2 in /usr/local/lib/python3.11/dist-packages (from flask>=3.0.0->open3d) (1.9.0)\n",
            "Requirement already satisfied: comm>=0.1.3 in /usr/local/lib/python3.11/dist-packages (from ipywidgets>=8.0.4->open3d) (0.2.2)\n",
            "Requirement already satisfied: ipython>=6.1.0 in /usr/local/lib/python3.11/dist-packages (from ipywidgets>=8.0.4->open3d) (7.34.0)\n",
            "Requirement already satisfied: traitlets>=4.3.1 in /usr/local/lib/python3.11/dist-packages (from ipywidgets>=8.0.4->open3d) (5.7.1)\n",
            "Requirement already satisfied: widgetsnbextension~=4.0.12 in /usr/local/lib/python3.11/dist-packages (from ipywidgets>=8.0.4->open3d) (4.0.13)\n",
            "Requirement already satisfied: jupyterlab-widgets~=3.0.12 in /usr/local/lib/python3.11/dist-packages (from ipywidgets>=8.0.4->open3d) (3.0.13)\n",
            "Requirement already satisfied: contourpy>=1.0.1 in /usr/local/lib/python3.11/dist-packages (from matplotlib>=3->open3d) (1.3.1)\n",
            "Requirement already satisfied: cycler>=0.10 in /usr/local/lib/python3.11/dist-packages (from matplotlib>=3->open3d) (0.12.1)\n",
            "Requirement already satisfied: fonttools>=4.22.0 in /usr/local/lib/python3.11/dist-packages (from matplotlib>=3->open3d) (4.55.7)\n",
            "Requirement already satisfied: kiwisolver>=1.3.1 in /usr/local/lib/python3.11/dist-packages (from matplotlib>=3->open3d) (1.4.8)\n",
            "Requirement already satisfied: packaging>=20.0 in /usr/local/lib/python3.11/dist-packages (from matplotlib>=3->open3d) (24.2)\n",
            "Requirement already satisfied: pyparsing>=2.3.1 in /usr/local/lib/python3.11/dist-packages (from matplotlib>=3->open3d) (3.2.1)\n",
            "Requirement already satisfied: python-dateutil>=2.7 in /usr/local/lib/python3.11/dist-packages (from matplotlib>=3->open3d) (2.8.2)\n",
            "Requirement already satisfied: fastjsonschema>=2.15 in /usr/local/lib/python3.11/dist-packages (from nbformat>=5.7.0->open3d) (2.21.1)\n",
            "Requirement already satisfied: jsonschema>=2.6 in /usr/local/lib/python3.11/dist-packages (from nbformat>=5.7.0->open3d) (4.23.0)\n",
            "Requirement already satisfied: jupyter-core!=5.0.*,>=4.12 in /usr/local/lib/python3.11/dist-packages (from nbformat>=5.7.0->open3d) (5.7.2)\n",
            "Requirement already satisfied: pytz>=2020.1 in /usr/local/lib/python3.11/dist-packages (from pandas>=1.0->open3d) (2024.2)\n",
            "Requirement already satisfied: tzdata>=2022.7 in /usr/local/lib/python3.11/dist-packages (from pandas>=1.0->open3d) (2025.1)\n",
            "Requirement already satisfied: scipy>=1.6.0 in /usr/local/lib/python3.11/dist-packages (from scikit-learn>=0.21->open3d) (1.13.1)\n",
            "Requirement already satisfied: joblib>=1.2.0 in /usr/local/lib/python3.11/dist-packages (from scikit-learn>=0.21->open3d) (1.4.2)\n",
            "Requirement already satisfied: threadpoolctl>=3.1.0 in /usr/local/lib/python3.11/dist-packages (from scikit-learn>=0.21->open3d) (3.5.0)\n",
            "Requirement already satisfied: MarkupSafe>=2.1.1 in /usr/local/lib/python3.11/dist-packages (from werkzeug>=3.0.0->open3d) (3.0.2)\n",
            "Requirement already satisfied: jedi>=0.16 in /usr/local/lib/python3.11/dist-packages (from ipython>=6.1.0->ipywidgets>=8.0.4->open3d) (0.19.2)\n",
            "Requirement already satisfied: decorator in /usr/local/lib/python3.11/dist-packages (from ipython>=6.1.0->ipywidgets>=8.0.4->open3d) (4.4.2)\n",
            "Requirement already satisfied: pickleshare in /usr/local/lib/python3.11/dist-packages (from ipython>=6.1.0->ipywidgets>=8.0.4->open3d) (0.7.5)\n",
            "Requirement already satisfied: prompt-toolkit!=3.0.0,!=3.0.1,<3.1.0,>=2.0.0 in /usr/local/lib/python3.11/dist-packages (from ipython>=6.1.0->ipywidgets>=8.0.4->open3d) (3.0.50)\n",
            "Requirement already satisfied: pygments in /usr/local/lib/python3.11/dist-packages (from ipython>=6.1.0->ipywidgets>=8.0.4->open3d) (2.18.0)\n",
            "Requirement already satisfied: backcall in /usr/local/lib/python3.11/dist-packages (from ipython>=6.1.0->ipywidgets>=8.0.4->open3d) (0.2.0)\n",
            "Requirement already satisfied: matplotlib-inline in /usr/local/lib/python3.11/dist-packages (from ipython>=6.1.0->ipywidgets>=8.0.4->open3d) (0.1.7)\n",
            "Requirement already satisfied: pexpect>4.3 in /usr/local/lib/python3.11/dist-packages (from ipython>=6.1.0->ipywidgets>=8.0.4->open3d) (4.9.0)\n",
            "Requirement already satisfied: attrs>=22.2.0 in /usr/local/lib/python3.11/dist-packages (from jsonschema>=2.6->nbformat>=5.7.0->open3d) (25.1.0)\n",
            "Requirement already satisfied: jsonschema-specifications>=2023.03.6 in /usr/local/lib/python3.11/dist-packages (from jsonschema>=2.6->nbformat>=5.7.0->open3d) (2024.10.1)\n",
            "Requirement already satisfied: referencing>=0.28.4 in /usr/local/lib/python3.11/dist-packages (from jsonschema>=2.6->nbformat>=5.7.0->open3d) (0.36.2)\n",
            "Requirement already satisfied: rpds-py>=0.7.1 in /usr/local/lib/python3.11/dist-packages (from jsonschema>=2.6->nbformat>=5.7.0->open3d) (0.22.3)\n",
            "Requirement already satisfied: platformdirs>=2.5 in /usr/local/lib/python3.11/dist-packages (from jupyter-core!=5.0.*,>=4.12->nbformat>=5.7.0->open3d) (4.3.6)\n",
            "Requirement already satisfied: tenacity>=6.2.0 in /usr/local/lib/python3.11/dist-packages (from plotly>=5.0.0->dash>=2.6.0->open3d) (9.0.0)\n",
            "Requirement already satisfied: six>=1.5 in /usr/local/lib/python3.11/dist-packages (from python-dateutil>=2.7->matplotlib>=3->open3d) (1.17.0)\n",
            "Requirement already satisfied: zipp>=3.20 in /usr/local/lib/python3.11/dist-packages (from importlib-metadata->dash>=2.6.0->open3d) (3.21.0)\n",
            "Requirement already satisfied: charset-normalizer<4,>=2 in /usr/local/lib/python3.11/dist-packages (from requests->dash>=2.6.0->open3d) (3.4.1)\n",
            "Requirement already satisfied: idna<4,>=2.5 in /usr/local/lib/python3.11/dist-packages (from requests->dash>=2.6.0->open3d) (3.10)\n",
            "Requirement already satisfied: urllib3<3,>=1.21.1 in /usr/local/lib/python3.11/dist-packages (from requests->dash>=2.6.0->open3d) (2.3.0)\n",
            "Requirement already satisfied: certifi>=2017.4.17 in /usr/local/lib/python3.11/dist-packages (from requests->dash>=2.6.0->open3d) (2024.12.14)\n",
            "Requirement already satisfied: parso<0.9.0,>=0.8.4 in /usr/local/lib/python3.11/dist-packages (from jedi>=0.16->ipython>=6.1.0->ipywidgets>=8.0.4->open3d) (0.8.4)\n",
            "Requirement already satisfied: ptyprocess>=0.5 in /usr/local/lib/python3.11/dist-packages (from pexpect>4.3->ipython>=6.1.0->ipywidgets>=8.0.4->open3d) (0.7.0)\n",
            "Requirement already satisfied: wcwidth in /usr/local/lib/python3.11/dist-packages (from prompt-toolkit!=3.0.0,!=3.0.1,<3.1.0,>=2.0.0->ipython>=6.1.0->ipywidgets>=8.0.4->open3d) (0.2.13)\n",
            "Requirement already satisfied: meshio in /usr/local/lib/python3.11/dist-packages (5.3.5)\n",
            "Requirement already satisfied: numpy>=1.20.0 in /usr/local/lib/python3.11/dist-packages (from meshio) (1.26.4)\n",
            "Requirement already satisfied: rich in /usr/local/lib/python3.11/dist-packages (from meshio) (13.9.4)\n",
            "Requirement already satisfied: markdown-it-py>=2.2.0 in /usr/local/lib/python3.11/dist-packages (from rich->meshio) (3.0.0)\n",
            "Requirement already satisfied: pygments<3.0.0,>=2.13.0 in /usr/local/lib/python3.11/dist-packages (from rich->meshio) (2.18.0)\n",
            "Requirement already satisfied: mdurl~=0.1 in /usr/local/lib/python3.11/dist-packages (from markdown-it-py>=2.2.0->rich->meshio) (0.1.2)\n",
            "Drive already mounted at /content/drive; to attempt to forcibly remount, call drive.mount(\"/content/drive\", force_remount=True).\n"
          ]
        }
      ],
      "source": [
        "!pip install ipyvolume\n",
        "!pip install ipyleaflet\n",
        "!pip install pyvista\n",
        "!pip install osmnx\n",
        "!pip install open3d\n",
        "!pip install meshio\n",
        "from google.colab import drive\n",
        "drive.mount('/content/drive')"
      ]
    },
    {
      "cell_type": "code",
      "execution_count": 99,
      "id": "d6605832-7dbe-4e08-8f99-f2a5ca3ff8c1",
      "metadata": {
        "id": "d6605832-7dbe-4e08-8f99-f2a5ca3ff8c1",
        "tags": []
      },
      "outputs": [],
      "source": [
        "import ipyleaflet\n",
        "import IPython.display\n",
        "import ipyvolume.pylab as p3\n",
        "import pyproj\n",
        "import shapely\n",
        "from shapely.geometry import shape\n",
        "from shapely.ops import transform\n",
        "import math\n",
        "import pyvista as pv\n",
        "import numpy as np\n",
        "import osmnx as ox\n",
        "from shapely.geometry import Polygon, Point, LineString\n",
        "import os\n",
        "from pyproj import Transformer\n",
        "import open3d as o3d\n",
        "import xml.etree.ElementTree as ET\n",
        "import xml.dom.minidom as minidom\n",
        "from google.colab import output\n",
        "output.enable_custom_widget_manager()"
      ]
    },
    {
      "cell_type": "markdown",
      "id": "PnyptRtgphx6",
      "metadata": {
        "id": "PnyptRtgphx6"
      },
      "source": []
    },
    {
      "cell_type": "code",
      "execution_count": 100,
      "id": "86f0bf85-3d56-4f5d-b390-5c9e1ab7a8c7",
      "metadata": {
        "id": "86f0bf85-3d56-4f5d-b390-5c9e1ab7a8c7",
        "tags": []
      },
      "outputs": [],
      "source": [
        "# Set the center position lat and lon as a starting point. Use any string of your choice for LOCATION_STR\n",
        "center_lat = 51.455304\n",
        "center_lon = -2.601635\n",
        "LOCATION_STR = \"BRISTOL\""
      ]
    },
    {
      "cell_type": "markdown",
      "id": "81bb04ab-2a5a-4c10-9e20-f97fff87f8aa",
      "metadata": {
        "id": "81bb04ab-2a5a-4c10-9e20-f97fff87f8aa"
      },
      "source": [
        "#### Initialize Sionna Scene XML object and add defaults"
      ]
    },
    {
      "cell_type": "code",
      "execution_count": 101,
      "id": "9b952887-c24b-46c6-bbed-dc779f58820f",
      "metadata": {
        "colab": {
          "base_uri": "https://localhost:8080/"
        },
        "id": "9b952887-c24b-46c6-bbed-dc779f58820f",
        "outputId": "8563e327-4b87-45e5-a840-5c8151c946f4",
        "tags": []
      },
      "outputs": [
        {
          "data": {
            "text/plain": [
              "<Element 'integer' at 0x7b26d6bed760>"
            ]
          },
          "execution_count": 101,
          "metadata": {},
          "output_type": "execute_result"
        }
      ],
      "source": [
        "# Set up default values for resolution\n",
        "spp_default = 4096\n",
        "resx_default = 1024\n",
        "resy_default = 768\n",
        "\n",
        "# Define camera settings\n",
        "camera_settings = {\n",
        "    \"rotation\": (0, 0, -90),  # Assuming Z-up orientation\n",
        "    \"fov\": 42.854885\n",
        "}\n",
        "\n",
        "# Define material colors. This is RGB 0-1 formar https://rgbcolorpicker.com/0-1\n",
        "material_colors = {\n",
        "    \"mat-itu_concrete\": (0.55, 0.53, 0.53),\n",
        "    \"mat-itu_marble\": (0.701101, 0.644479, 0.485150),\n",
        "    \"mat-itu_metal\": (0.219526, 0.219526, 0.254152),\n",
        "    \"mat-itu_wood\": (0.043, 0.58, 0.184),\n",
        "    \"mat-itu_wet_ground\": (0.824, 0.815, 0.815),\n",
        "}\n",
        "transformer = Transformer.from_crs(\"EPSG:4326\", \"EPSG:26915\")\n",
        "center_26915 = transformer.transform(center_lat,center_lon)\n",
        "sionna_center_x = center_26915[0]\n",
        "sionna_center_y = center_26915[1]\n",
        "sionna_center_z = 0\n",
        "\n",
        "scene = ET.Element(\"scene\", version=\"2.1.0\")\n",
        "# Add defaults\n",
        "ET.SubElement(scene, \"default\", name=\"spp\", value=str(spp_default))\n",
        "ET.SubElement(scene, \"default\", name=\"resx\", value=str(resx_default))\n",
        "ET.SubElement(scene, \"default\", name=\"resy\", value=str(resy_default))\n",
        "# Add integrator\n",
        "integrator = ET.SubElement(scene, \"integrator\", type=\"path\")\n",
        "ET.SubElement(integrator, \"integer\", name=\"max_depth\", value=\"12\")\n",
        "\n",
        "# Define materials\n",
        "for material_id, rgb in material_colors.items():\n",
        "    bsdf_twosided = ET.SubElement(scene, \"bsdf\", type=\"twosided\", id=material_id)\n",
        "    bsdf_diffuse = ET.SubElement(bsdf_twosided, \"bsdf\", type=\"diffuse\")\n",
        "    ET.SubElement(bsdf_diffuse, \"rgb\", value=f\"{rgb[0]} {rgb[1]} {rgb[2]}\", name=\"reflectance\")\n",
        "\n",
        "# Add emitter\n",
        "emitter = ET.SubElement(scene, \"emitter\", type=\"constant\", id=\"World\")\n",
        "ET.SubElement(emitter, \"rgb\", value=\"1.000000 1.000000 1.000000\", name=\"radiance\")\n",
        "\n",
        "# Add camera (sensor)\n",
        "sensor = ET.SubElement(scene, \"sensor\", type=\"perspective\", id=\"Camera\")\n",
        "ET.SubElement(sensor, \"string\", name=\"fov_axis\", value=\"x\")\n",
        "ET.SubElement(sensor, \"float\", name=\"fov\", value=str(camera_settings[\"fov\"]))\n",
        "ET.SubElement(sensor, \"float\", name=\"principal_point_offset_x\", value=\"0.000000\")\n",
        "ET.SubElement(sensor, \"float\", name=\"principal_point_offset_y\", value=\"-0.000000\")\n",
        "ET.SubElement(sensor, \"float\", name=\"near_clip\", value=\"0.100000\")\n",
        "ET.SubElement(sensor, \"float\", name=\"far_clip\", value=\"10000.000000\")\n",
        "sionna_transform = ET.SubElement(sensor, \"transform\", name=\"to_world\")\n",
        "ET.SubElement(sionna_transform, \"rotate\", x=\"1\", angle=str(camera_settings[\"rotation\"][0]))\n",
        "ET.SubElement(sionna_transform, \"rotate\", y=\"1\", angle=str(camera_settings[\"rotation\"][1]))\n",
        "ET.SubElement(sionna_transform, \"rotate\", z=\"1\", angle=str(camera_settings[\"rotation\"][2]))\n",
        "camera_position = np.array([0, 0, 100])  # Adjust camera height\n",
        "ET.SubElement(sionna_transform, \"translate\", value=\" \".join(map(str, camera_position)))\n",
        "sampler = ET.SubElement(sensor, \"sampler\", type=\"independent\")\n",
        "ET.SubElement(sampler, \"integer\", name=\"sample_count\", value=\"$spp\")\n",
        "film = ET.SubElement(sensor, \"film\", type=\"hdrfilm\")\n",
        "ET.SubElement(film, \"integer\", name=\"width\", value=\"$resx\")\n",
        "ET.SubElement(film, \"integer\", name=\"height\", value=\"$resy\")"
      ]
    },
    {
      "cell_type": "markdown",
      "id": "4b18ea22-1fbb-4d2c-97cb-488d8a15fa46",
      "metadata": {
        "id": "4b18ea22-1fbb-4d2c-97cb-488d8a15fa46",
        "tags": []
      },
      "source": [
        "### Open Interactive map to select Region to be used"
      ]
    },
    {
      "cell_type": "markdown",
      "id": "1cbebfb3-e609-4c57-9707-524b6963e38e",
      "metadata": {
        "id": "1cbebfb3-e609-4c57-9707-524b6963e38e"
      },
      "source": [
        "Use controls on the map to draw a region of any shape."
      ]
    },
    {
      "cell_type": "code",
      "execution_count": 102,
      "id": "795ce716-6ee5-4acf-9dde-982bf2a2cfd2",
      "metadata": {
        "colab": {
          "base_uri": "https://localhost:8080/",
          "height": 17,
          "referenced_widgets": [
            "b22ca5c28a9d4548ae58747f2a195d73"
          ]
        },
        "id": "795ce716-6ee5-4acf-9dde-982bf2a2cfd2",
        "outputId": "cbacf438-1c5a-4cf4-8cff-6d16b8ca5a4b",
        "tags": []
      },
      "outputs": [
        {
          "data": {
            "application/vnd.jupyter.widget-view+json": {
              "model_id": "b22ca5c28a9d4548ae58747f2a195d73",
              "version_major": 2,
              "version_minor": 0
            },
            "text/plain": [
              "Map(center=[51.455304, -2.601635], controls=(ZoomControl(options=['position', 'zoom_in_text', 'zoom_in_title',…"
            ]
          },
          "execution_count": 102,
          "metadata": {},
          "output_type": "execute_result"
        }
      ],
      "source": [
        "from google.colab import output\n",
        "output.enable_custom_widget_manager()\n",
        "m = ipyleaflet.Map(center=(center_lat, center_lon), zoom=16)\n",
        "dc = ipyleaflet.DrawControl()\n",
        "m.add(dc)\n",
        "m # note this did not work in colab so had to do just this bit in Jupyter to get the coordinates"
      ]
    },
    {
      "cell_type": "markdown",
      "id": "r9RUI6Garnop",
      "metadata": {
        "id": "r9RUI6Garnop"
      },
      "source": [
        "Support for third party widgets will remain active for the duration of the session. To disable support:"
      ]
    },
    {
      "cell_type": "markdown",
      "id": "zRtadjIwprlA",
      "metadata": {
        "id": "zRtadjIwprlA"
      },
      "source": [
        "Support for third party widgets will remain active for the duration of the session. To disable support:"
      ]
    },
    {
      "cell_type": "code",
      "execution_count": 103,
      "id": "54e76545-5d61-4484-9dea-69b846fb41fd",
      "metadata": {
        "id": "54e76545-5d61-4484-9dea-69b846fb41fd",
        "tags": []
      },
      "outputs": [],
      "source": [
        "# Get coordinates in meter for the area of interst polygon (This will be used in next steps)\n",
        "wsg84 = pyproj.CRS(\"epsg:4326\")\n",
        "lambert = pyproj.CRS(\"epsg:26915\")\n",
        "transformer = pyproj.Transformer.from_crs(wsg84, lambert, always_xy=True)\n",
        "coords = [(5162356.111424512, 10032517.815982366), (5162876.418509162, 10032549.048722032), (5162878.377007261, 10033185.108821247), (5162342.873116694, 10033153.747476969), (5162356.111424512, 10032517.815982366)]\n",
        "\n",
        "# Need to make this cahnge in Jupyter to extract both forms of the coordinates\n",
        "# # Get coordinates in meter for the area of interst polygon (This will be used in next steps)\n",
        "# wsg84 = pyproj.CRS(\"epsg:4326\")\n",
        "# lambert = pyproj.CRS(\"epsg:26915\")\n",
        "# transformer = pyproj.Transformer.from_crs(wsg84, lambert, always_xy=True)\n",
        "# coords = [transformer.transform(x, y) for x, y in dc.last_draw['geometry']['coordinates'][0]]\n",
        "# print(coords)\n",
        "\n",
        "# wsg84 = pyproj.CRS(\"epsg:4326\")\n",
        "# lambert = pyproj.CRS(\"epsg:4326\")\n",
        "# transformer = pyproj.Transformer.from_crs(wsg84, lambert, always_xy=True)\n",
        "# coords = [transformer.transform(x, y) for x, y in dc.last_draw['geometry']['coordinates'][0]]\n",
        "# print(coords)\n",
        "\n",
        "# aoi_polygon = shapely.geometry.Polygon(coords)\n",
        "# print(aoi_polygon)\n",
        "\n",
        "\n",
        "aoi_polygon = shapely.geometry.Polygon(coords)"
      ]
    },
    {
      "cell_type": "code",
      "execution_count": 104,
      "id": "b5459024-0f72-40d8-a301-680233d2c802",
      "metadata": {
        "id": "b5459024-0f72-40d8-a301-680233d2c802",
        "tags": []
      },
      "outputs": [],
      "source": [
        "# Store center of the selected area to be used in calculations later on\n",
        "center_x = aoi_polygon.centroid.x\n",
        "center_y = aoi_polygon.centroid.y"
      ]
    },
    {
      "cell_type": "code",
      "execution_count": 105,
      "id": "32b01fbf-82bc-417e-a662-dde217ab0603",
      "metadata": {
        "id": "32b01fbf-82bc-417e-a662-dde217ab0603",
        "tags": []
      },
      "outputs": [],
      "source": [
        "# Set Location of the directory where scene and objects will be stored\n",
        "LOCATION_DIR = f\"/content/drive/MyDrive/{LOCATION_STR}_2\""
      ]
    },
    {
      "cell_type": "code",
      "execution_count": 106,
      "id": "275dd658-ea33-4936-a201-033519f54588",
      "metadata": {
        "id": "275dd658-ea33-4936-a201-033519f54588"
      },
      "outputs": [],
      "source": [
        "# Create Directories\n",
        "os.mkdir(f\"{LOCATION_DIR}\")\n",
        "os.mkdir(f\"{LOCATION_DIR}/mesh\")"
      ]
    },
    {
      "cell_type": "code",
      "execution_count": 107,
      "id": "cdc8350b-70e2-461e-a216-b40fb0673813",
      "metadata": {
        "id": "cdc8350b-70e2-461e-a216-b40fb0673813",
        "tags": []
      },
      "outputs": [],
      "source": [
        "# Utility Function\n",
        "def points_2d_to_poly(points, z):\n",
        "    \"\"\"Convert a sequence of 2d coordinates to a polydata with a polygon.\"\"\"\n",
        "    faces = [len(points), *range(len(points))]\n",
        "    poly = pv.PolyData([p + (z,) for p in points], faces=faces)\n",
        "    return poly"
      ]
    },
    {
      "cell_type": "markdown",
      "id": "e5f954d7-8e77-4a42-9231-c84841d26edb",
      "metadata": {
        "id": "e5f954d7-8e77-4a42-9231-c84841d26edb"
      },
      "source": [
        "### Create Ground mesh and add to the scene"
      ]
    },
    {
      "cell_type": "code",
      "execution_count": 108,
      "id": "0e47f7e7-e1d1-47b6-a9b8-c3c4b0e123e7",
      "metadata": {
        "colab": {
          "base_uri": "https://localhost:8080/",
          "height": 51
        },
        "id": "0e47f7e7-e1d1-47b6-a9b8-c3c4b0e123e7",
        "outputId": "09f2e868-cc9a-4b0e-842a-20a52a5a665e",
        "tags": []
      },
      "outputs": [
        {
          "data": {
            "text/html": [
              "<pre style=\"white-space:pre;overflow-x:auto;line-height:normal;font-family:Menlo,'DejaVu Sans Mono',consolas,'Courier New',monospace\"><span style=\"color: #808000; text-decoration-color: #808000; font-weight: bold\">Warning:</span><span style=\"color: #808000; text-decoration-color: #808000\"> PLY doesn't support </span><span style=\"color: #808000; text-decoration-color: #808000; font-weight: bold\">64</span><span style=\"color: #808000; text-decoration-color: #808000\">-bit integers. Casting down to </span><span style=\"color: #808000; text-decoration-color: #808000; font-weight: bold\">32</span><span style=\"color: #808000; text-decoration-color: #808000\">-bit.</span>\n",
              "</pre>\n"
            ],
            "text/plain": [
              "\u001b[1;33mWarning:\u001b[0m\u001b[33m PLY doesn't support \u001b[0m\u001b[1;33m64\u001b[0m\u001b[33m-bit integers. Casting down to \u001b[0m\u001b[1;33m32\u001b[0m\u001b[33m-bit.\u001b[0m\n"
            ]
          },
          "metadata": {},
          "output_type": "display_data"
        },
        {
          "data": {
            "text/plain": [
              "<Element 'boolean' at 0x7b26d66f7510>"
            ]
          },
          "execution_count": 108,
          "metadata": {},
          "output_type": "execute_result"
        }
      ],
      "source": [
        "wsg84 = pyproj.CRS(\"epsg:4326\")\n",
        "lambert = pyproj.CRS(\"epsg:26915\")\n",
        "transformer = pyproj.Transformer.from_crs(wsg84, lambert, always_xy=True)\n",
        "#coords = [(5162356.111424512, 10032517.815982366), (5162876.418509162, 10032549.048722032), (5162878.377007261, 10033185.108821247), (5162342.873116694, 10033153.747476969), (5162356.111424512, 10032517.815982366)]\n",
        "coords = [(5162317.811997349, 10032723.136741888), (5162551.351361565, 10032727.127107799), (5162551.223419244, 10032968.91790133), (5162309.928613026, 10032974.431113183), (5162317.811997349, 10032723.136741888)]\n",
        "\n",
        "ground_polygon = shapely.geometry.Polygon(coords)\n",
        "z_coordinates = np.full(len(ground_polygon.exterior.coords), 0)  # Assuming the initial Z coordinate is zmin\n",
        "exterior_coords = ground_polygon.exterior.coords\n",
        "oriented_coords = list(exterior_coords)\n",
        "# Ensure counterclockwise orientation\n",
        "if ground_polygon.exterior.is_ccw:\n",
        "    oriented_coords.reverse()\n",
        "points = [(coord[0]-center_x, coord[1]-center_y) for coord in oriented_coords]\n",
        "# bounding polygon\n",
        "boundary_points_polydata = points_2d_to_poly(points, z_coordinates[0])\n",
        "edge_polygon = boundary_points_polydata\n",
        "footprint_plane = edge_polygon.delaunay_2d()\n",
        "footprint_plane.points[:] = (footprint_plane.points - footprint_plane.center)*1.5 + footprint_plane.center\n",
        "pv.save_meshio(f\"{LOCATION_DIR}/mesh/ground.ply\",footprint_plane)\n",
        "\n",
        "material_type = \"mat-itu_wet_ground\"\n",
        "sionna_shape = ET.SubElement(scene, \"shape\", type=\"ply\", id=f\"mesh-ground\")\n",
        "ET.SubElement(sionna_shape, \"string\", name=\"filename\", value=f\"simple_scene/{LOCATION_DIR}/mesh/ground.ply\")\n",
        "bsdf_ref = ET.SubElement(sionna_shape, \"ref\", id=material_type, name=\"bsdf\")\n",
        "ET.SubElement(sionna_shape, \"boolean\", name=\"face_normals\",value=\"true\")"
      ]
    },
    {
      "cell_type": "markdown",
      "id": "be20cbb4-d8cd-4922-a690-158ea9b3e4f4",
      "metadata": {
        "id": "be20cbb4-d8cd-4922-a690-158ea9b3e4f4"
      },
      "source": [
        "#### Create Buildings mesh and add to the scene"
      ]
    },
    {
      "cell_type": "markdown",
      "id": "5edee012-2c71-4315-98ab-b361061e1a9e",
      "metadata": {
        "id": "5edee012-2c71-4315-98ab-b361061e1a9e"
      },
      "source": [
        "First download 2D buildings from openstreetmap using OSMNX (https://osmnx.readthedocs.io/en/stable/)"
      ]
    },
    {
      "cell_type": "code",
      "execution_count": 109,
      "id": "a4f9ff31-a036-4764-94fd-daec2dbad286",
      "metadata": {
        "id": "a4f9ff31-a036-4764-94fd-daec2dbad286",
        "tags": []
      },
      "outputs": [],
      "source": [
        "import osmnx as ox\n",
        "wsg84 = pyproj.CRS(\"epsg:4326\")\n",
        "lambert = pyproj.CRS(\"epsg:4326\")\n",
        "transformer = pyproj.Transformer.from_crs(wsg84, lambert, always_xy=True)\n",
        "#coords = [(-2.610696, 51.457061), (-2.610395, 51.453397), (-2.60323, 51.453344), (-2.60353, 51.457115), (-2.610696, 51.457061)]\n",
        "coords = [(-2.608379, 51.457318), (-2.608357, 51.455674), (-2.605633, 51.45566), (-2.605547, 51.457358), (-2.608379, 51.457318)]\n",
        "\n",
        "osm_polygon = shapely.geometry.Polygon(coords)\n",
        "# Query the OpenStreetMap data\n",
        "buildings = ox.features_from_polygon(osm_polygon, tags={'building': True})\n",
        "\n",
        "# Filter buildings that intersect with the polygon\n",
        "filtered_buildings = buildings[buildings.intersects(osm_polygon)]"
      ]
    },
    {
      "cell_type": "code",
      "execution_count": 110,
      "id": "16be183d-028a-4ab9-8f5b-ebb97d1b0ff4",
      "metadata": {
        "colab": {
          "base_uri": "https://localhost:8080/",
          "height": 634
        },
        "id": "16be183d-028a-4ab9-8f5b-ebb97d1b0ff4",
        "outputId": "d33e8b6c-16dd-41fd-b01e-a5904384cf04",
        "tags": []
      },
      "outputs": [
        {
          "data": {
            "application/vnd.google.colaboratory.intrinsic+json": {
              "type": "dataframe",
              "variable_name": "filtered_buildings"
            },
            "text/html": [
              "\n",
              "  <div id=\"df-7d2325f1-9d09-47bc-aea5-49c70bc512f6\" class=\"colab-df-container\">\n",
              "    <div>\n",
              "<style scoped>\n",
              "    .dataframe tbody tr th:only-of-type {\n",
              "        vertical-align: middle;\n",
              "    }\n",
              "\n",
              "    .dataframe tbody tr th {\n",
              "        vertical-align: top;\n",
              "    }\n",
              "\n",
              "    .dataframe thead th {\n",
              "        text-align: right;\n",
              "    }\n",
              "</style>\n",
              "<table border=\"1\" class=\"dataframe\">\n",
              "  <thead>\n",
              "    <tr style=\"text-align: right;\">\n",
              "      <th></th>\n",
              "      <th></th>\n",
              "      <th>geometry</th>\n",
              "      <th>addr:city</th>\n",
              "      <th>addr:postcode</th>\n",
              "      <th>addr:street</th>\n",
              "      <th>addr:suburb</th>\n",
              "      <th>building</th>\n",
              "      <th>check_date</th>\n",
              "      <th>email</th>\n",
              "      <th>fee</th>\n",
              "      <th>name</th>\n",
              "      <th>...</th>\n",
              "      <th>proposed:shop</th>\n",
              "      <th>short_name</th>\n",
              "      <th>healthcare</th>\n",
              "      <th>craft</th>\n",
              "      <th>contact:facebook</th>\n",
              "      <th>contact:twitter</th>\n",
              "      <th>denomination</th>\n",
              "      <th>religion</th>\n",
              "      <th>dispensing</th>\n",
              "      <th>drive_through</th>\n",
              "    </tr>\n",
              "    <tr>\n",
              "      <th>element</th>\n",
              "      <th>id</th>\n",
              "      <th></th>\n",
              "      <th></th>\n",
              "      <th></th>\n",
              "      <th></th>\n",
              "      <th></th>\n",
              "      <th></th>\n",
              "      <th></th>\n",
              "      <th></th>\n",
              "      <th></th>\n",
              "      <th></th>\n",
              "      <th></th>\n",
              "      <th></th>\n",
              "      <th></th>\n",
              "      <th></th>\n",
              "      <th></th>\n",
              "      <th></th>\n",
              "      <th></th>\n",
              "      <th></th>\n",
              "      <th></th>\n",
              "      <th></th>\n",
              "      <th></th>\n",
              "    </tr>\n",
              "  </thead>\n",
              "  <tbody>\n",
              "    <tr>\n",
              "      <th rowspan=\"5\" valign=\"top\">way</th>\n",
              "      <th>36990873</th>\n",
              "      <td>POLYGON ((-2.60561 51.45667, -2.6054 51.45688,...</td>\n",
              "      <td>Bristol</td>\n",
              "      <td>BS8 1RL</td>\n",
              "      <td>Queen's Road</td>\n",
              "      <td>City Centre</td>\n",
              "      <td>yes</td>\n",
              "      <td>2025-02-01</td>\n",
              "      <td>general.museum@bristol.gov.uk</td>\n",
              "      <td>no</td>\n",
              "      <td>Bristol City Museum &amp; Art Gallery</td>\n",
              "      <td>...</td>\n",
              "      <td>NaN</td>\n",
              "      <td>NaN</td>\n",
              "      <td>NaN</td>\n",
              "      <td>NaN</td>\n",
              "      <td>NaN</td>\n",
              "      <td>NaN</td>\n",
              "      <td>NaN</td>\n",
              "      <td>NaN</td>\n",
              "      <td>NaN</td>\n",
              "      <td>NaN</td>\n",
              "    </tr>\n",
              "    <tr>\n",
              "      <th>97655812</th>\n",
              "      <td>POLYGON ((-2.60561 51.45667, -2.60542 51.45659...</td>\n",
              "      <td>Bristol</td>\n",
              "      <td>BS8 1RE</td>\n",
              "      <td>Queen's Road</td>\n",
              "      <td>Clifton</td>\n",
              "      <td>yes</td>\n",
              "      <td>NaN</td>\n",
              "      <td>NaN</td>\n",
              "      <td>NaN</td>\n",
              "      <td>Brown's</td>\n",
              "      <td>...</td>\n",
              "      <td>NaN</td>\n",
              "      <td>NaN</td>\n",
              "      <td>NaN</td>\n",
              "      <td>NaN</td>\n",
              "      <td>NaN</td>\n",
              "      <td>NaN</td>\n",
              "      <td>NaN</td>\n",
              "      <td>NaN</td>\n",
              "      <td>NaN</td>\n",
              "      <td>NaN</td>\n",
              "    </tr>\n",
              "    <tr>\n",
              "      <th>97655908</th>\n",
              "      <td>POLYGON ((-2.60869 51.45698, -2.6086 51.45693,...</td>\n",
              "      <td>Bristol</td>\n",
              "      <td>BS8 1QS</td>\n",
              "      <td>Queen's Road</td>\n",
              "      <td>Clifton</td>\n",
              "      <td>yes</td>\n",
              "      <td>NaN</td>\n",
              "      <td>NaN</td>\n",
              "      <td>NaN</td>\n",
              "      <td>Little Waitrose</td>\n",
              "      <td>...</td>\n",
              "      <td>NaN</td>\n",
              "      <td>NaN</td>\n",
              "      <td>NaN</td>\n",
              "      <td>NaN</td>\n",
              "      <td>NaN</td>\n",
              "      <td>NaN</td>\n",
              "      <td>NaN</td>\n",
              "      <td>NaN</td>\n",
              "      <td>NaN</td>\n",
              "      <td>NaN</td>\n",
              "    </tr>\n",
              "    <tr>\n",
              "      <th>186164176</th>\n",
              "      <td>POLYGON ((-2.60862 51.45643, -2.60857 51.4565,...</td>\n",
              "      <td>Bristol</td>\n",
              "      <td>BS8 1EJ</td>\n",
              "      <td>Triangle West</td>\n",
              "      <td>NaN</td>\n",
              "      <td>yes</td>\n",
              "      <td>NaN</td>\n",
              "      <td>NaN</td>\n",
              "      <td>NaN</td>\n",
              "      <td>NaN</td>\n",
              "      <td>...</td>\n",
              "      <td>NaN</td>\n",
              "      <td>NaN</td>\n",
              "      <td>NaN</td>\n",
              "      <td>NaN</td>\n",
              "      <td>NaN</td>\n",
              "      <td>NaN</td>\n",
              "      <td>NaN</td>\n",
              "      <td>NaN</td>\n",
              "      <td>NaN</td>\n",
              "      <td>NaN</td>\n",
              "    </tr>\n",
              "    <tr>\n",
              "      <th>186167363</th>\n",
              "      <td>POLYGON ((-2.60599 51.45572, -2.60607 51.45558...</td>\n",
              "      <td>NaN</td>\n",
              "      <td>NaN</td>\n",
              "      <td>Berkeley Square</td>\n",
              "      <td>NaN</td>\n",
              "      <td>yes</td>\n",
              "      <td>NaN</td>\n",
              "      <td>NaN</td>\n",
              "      <td>NaN</td>\n",
              "      <td>NaN</td>\n",
              "      <td>...</td>\n",
              "      <td>NaN</td>\n",
              "      <td>NaN</td>\n",
              "      <td>NaN</td>\n",
              "      <td>NaN</td>\n",
              "      <td>NaN</td>\n",
              "      <td>NaN</td>\n",
              "      <td>NaN</td>\n",
              "      <td>NaN</td>\n",
              "      <td>NaN</td>\n",
              "      <td>NaN</td>\n",
              "    </tr>\n",
              "  </tbody>\n",
              "</table>\n",
              "<p>5 rows × 68 columns</p>\n",
              "</div>\n",
              "    <div class=\"colab-df-buttons\">\n",
              "\n",
              "  <div class=\"colab-df-container\">\n",
              "    <button class=\"colab-df-convert\" onclick=\"convertToInteractive('df-7d2325f1-9d09-47bc-aea5-49c70bc512f6')\"\n",
              "            title=\"Convert this dataframe to an interactive table.\"\n",
              "            style=\"display:none;\">\n",
              "\n",
              "  <svg xmlns=\"http://www.w3.org/2000/svg\" height=\"24px\" viewBox=\"0 -960 960 960\">\n",
              "    <path d=\"M120-120v-720h720v720H120Zm60-500h600v-160H180v160Zm220 220h160v-160H400v160Zm0 220h160v-160H400v160ZM180-400h160v-160H180v160Zm440 0h160v-160H620v160ZM180-180h160v-160H180v160Zm440 0h160v-160H620v160Z\"/>\n",
              "  </svg>\n",
              "    </button>\n",
              "\n",
              "  <style>\n",
              "    .colab-df-container {\n",
              "      display:flex;\n",
              "      gap: 12px;\n",
              "    }\n",
              "\n",
              "    .colab-df-convert {\n",
              "      background-color: #E8F0FE;\n",
              "      border: none;\n",
              "      border-radius: 50%;\n",
              "      cursor: pointer;\n",
              "      display: none;\n",
              "      fill: #1967D2;\n",
              "      height: 32px;\n",
              "      padding: 0 0 0 0;\n",
              "      width: 32px;\n",
              "    }\n",
              "\n",
              "    .colab-df-convert:hover {\n",
              "      background-color: #E2EBFA;\n",
              "      box-shadow: 0px 1px 2px rgba(60, 64, 67, 0.3), 0px 1px 3px 1px rgba(60, 64, 67, 0.15);\n",
              "      fill: #174EA6;\n",
              "    }\n",
              "\n",
              "    .colab-df-buttons div {\n",
              "      margin-bottom: 4px;\n",
              "    }\n",
              "\n",
              "    [theme=dark] .colab-df-convert {\n",
              "      background-color: #3B4455;\n",
              "      fill: #D2E3FC;\n",
              "    }\n",
              "\n",
              "    [theme=dark] .colab-df-convert:hover {\n",
              "      background-color: #434B5C;\n",
              "      box-shadow: 0px 1px 3px 1px rgba(0, 0, 0, 0.15);\n",
              "      filter: drop-shadow(0px 1px 2px rgba(0, 0, 0, 0.3));\n",
              "      fill: #FFFFFF;\n",
              "    }\n",
              "  </style>\n",
              "\n",
              "    <script>\n",
              "      const buttonEl =\n",
              "        document.querySelector('#df-7d2325f1-9d09-47bc-aea5-49c70bc512f6 button.colab-df-convert');\n",
              "      buttonEl.style.display =\n",
              "        google.colab.kernel.accessAllowed ? 'block' : 'none';\n",
              "\n",
              "      async function convertToInteractive(key) {\n",
              "        const element = document.querySelector('#df-7d2325f1-9d09-47bc-aea5-49c70bc512f6');\n",
              "        const dataTable =\n",
              "          await google.colab.kernel.invokeFunction('convertToInteractive',\n",
              "                                                    [key], {});\n",
              "        if (!dataTable) return;\n",
              "\n",
              "        const docLinkHtml = 'Like what you see? Visit the ' +\n",
              "          '<a target=\"_blank\" href=https://colab.research.google.com/notebooks/data_table.ipynb>data table notebook</a>'\n",
              "          + ' to learn more about interactive tables.';\n",
              "        element.innerHTML = '';\n",
              "        dataTable['output_type'] = 'display_data';\n",
              "        await google.colab.output.renderOutput(dataTable, element);\n",
              "        const docLink = document.createElement('div');\n",
              "        docLink.innerHTML = docLinkHtml;\n",
              "        element.appendChild(docLink);\n",
              "      }\n",
              "    </script>\n",
              "  </div>\n",
              "\n",
              "\n",
              "<div id=\"df-c93b4dac-56b6-457c-9750-0d9b14050e02\">\n",
              "  <button class=\"colab-df-quickchart\" onclick=\"quickchart('df-c93b4dac-56b6-457c-9750-0d9b14050e02')\"\n",
              "            title=\"Suggest charts\"\n",
              "            style=\"display:none;\">\n",
              "\n",
              "<svg xmlns=\"http://www.w3.org/2000/svg\" height=\"24px\"viewBox=\"0 0 24 24\"\n",
              "     width=\"24px\">\n",
              "    <g>\n",
              "        <path d=\"M19 3H5c-1.1 0-2 .9-2 2v14c0 1.1.9 2 2 2h14c1.1 0 2-.9 2-2V5c0-1.1-.9-2-2-2zM9 17H7v-7h2v7zm4 0h-2V7h2v10zm4 0h-2v-4h2v4z\"/>\n",
              "    </g>\n",
              "</svg>\n",
              "  </button>\n",
              "\n",
              "<style>\n",
              "  .colab-df-quickchart {\n",
              "      --bg-color: #E8F0FE;\n",
              "      --fill-color: #1967D2;\n",
              "      --hover-bg-color: #E2EBFA;\n",
              "      --hover-fill-color: #174EA6;\n",
              "      --disabled-fill-color: #AAA;\n",
              "      --disabled-bg-color: #DDD;\n",
              "  }\n",
              "\n",
              "  [theme=dark] .colab-df-quickchart {\n",
              "      --bg-color: #3B4455;\n",
              "      --fill-color: #D2E3FC;\n",
              "      --hover-bg-color: #434B5C;\n",
              "      --hover-fill-color: #FFFFFF;\n",
              "      --disabled-bg-color: #3B4455;\n",
              "      --disabled-fill-color: #666;\n",
              "  }\n",
              "\n",
              "  .colab-df-quickchart {\n",
              "    background-color: var(--bg-color);\n",
              "    border: none;\n",
              "    border-radius: 50%;\n",
              "    cursor: pointer;\n",
              "    display: none;\n",
              "    fill: var(--fill-color);\n",
              "    height: 32px;\n",
              "    padding: 0;\n",
              "    width: 32px;\n",
              "  }\n",
              "\n",
              "  .colab-df-quickchart:hover {\n",
              "    background-color: var(--hover-bg-color);\n",
              "    box-shadow: 0 1px 2px rgba(60, 64, 67, 0.3), 0 1px 3px 1px rgba(60, 64, 67, 0.15);\n",
              "    fill: var(--button-hover-fill-color);\n",
              "  }\n",
              "\n",
              "  .colab-df-quickchart-complete:disabled,\n",
              "  .colab-df-quickchart-complete:disabled:hover {\n",
              "    background-color: var(--disabled-bg-color);\n",
              "    fill: var(--disabled-fill-color);\n",
              "    box-shadow: none;\n",
              "  }\n",
              "\n",
              "  .colab-df-spinner {\n",
              "    border: 2px solid var(--fill-color);\n",
              "    border-color: transparent;\n",
              "    border-bottom-color: var(--fill-color);\n",
              "    animation:\n",
              "      spin 1s steps(1) infinite;\n",
              "  }\n",
              "\n",
              "  @keyframes spin {\n",
              "    0% {\n",
              "      border-color: transparent;\n",
              "      border-bottom-color: var(--fill-color);\n",
              "      border-left-color: var(--fill-color);\n",
              "    }\n",
              "    20% {\n",
              "      border-color: transparent;\n",
              "      border-left-color: var(--fill-color);\n",
              "      border-top-color: var(--fill-color);\n",
              "    }\n",
              "    30% {\n",
              "      border-color: transparent;\n",
              "      border-left-color: var(--fill-color);\n",
              "      border-top-color: var(--fill-color);\n",
              "      border-right-color: var(--fill-color);\n",
              "    }\n",
              "    40% {\n",
              "      border-color: transparent;\n",
              "      border-right-color: var(--fill-color);\n",
              "      border-top-color: var(--fill-color);\n",
              "    }\n",
              "    60% {\n",
              "      border-color: transparent;\n",
              "      border-right-color: var(--fill-color);\n",
              "    }\n",
              "    80% {\n",
              "      border-color: transparent;\n",
              "      border-right-color: var(--fill-color);\n",
              "      border-bottom-color: var(--fill-color);\n",
              "    }\n",
              "    90% {\n",
              "      border-color: transparent;\n",
              "      border-bottom-color: var(--fill-color);\n",
              "    }\n",
              "  }\n",
              "</style>\n",
              "\n",
              "  <script>\n",
              "    async function quickchart(key) {\n",
              "      const quickchartButtonEl =\n",
              "        document.querySelector('#' + key + ' button');\n",
              "      quickchartButtonEl.disabled = true;  // To prevent multiple clicks.\n",
              "      quickchartButtonEl.classList.add('colab-df-spinner');\n",
              "      try {\n",
              "        const charts = await google.colab.kernel.invokeFunction(\n",
              "            'suggestCharts', [key], {});\n",
              "      } catch (error) {\n",
              "        console.error('Error during call to suggestCharts:', error);\n",
              "      }\n",
              "      quickchartButtonEl.classList.remove('colab-df-spinner');\n",
              "      quickchartButtonEl.classList.add('colab-df-quickchart-complete');\n",
              "    }\n",
              "    (() => {\n",
              "      let quickchartButtonEl =\n",
              "        document.querySelector('#df-c93b4dac-56b6-457c-9750-0d9b14050e02 button');\n",
              "      quickchartButtonEl.style.display =\n",
              "        google.colab.kernel.accessAllowed ? 'block' : 'none';\n",
              "    })();\n",
              "  </script>\n",
              "</div>\n",
              "\n",
              "    </div>\n",
              "  </div>\n"
            ],
            "text/plain": [
              "                                                            geometry  \\\n",
              "element id                                                             \n",
              "way     36990873   POLYGON ((-2.60561 51.45667, -2.6054 51.45688,...   \n",
              "        97655812   POLYGON ((-2.60561 51.45667, -2.60542 51.45659...   \n",
              "        97655908   POLYGON ((-2.60869 51.45698, -2.6086 51.45693,...   \n",
              "        186164176  POLYGON ((-2.60862 51.45643, -2.60857 51.4565,...   \n",
              "        186167363  POLYGON ((-2.60599 51.45572, -2.60607 51.45558...   \n",
              "\n",
              "                  addr:city addr:postcode      addr:street  addr:suburb  \\\n",
              "element id                                                                \n",
              "way     36990873    Bristol       BS8 1RL     Queen's Road  City Centre   \n",
              "        97655812    Bristol       BS8 1RE     Queen's Road      Clifton   \n",
              "        97655908    Bristol       BS8 1QS     Queen's Road      Clifton   \n",
              "        186164176   Bristol       BS8 1EJ    Triangle West          NaN   \n",
              "        186167363       NaN           NaN  Berkeley Square          NaN   \n",
              "\n",
              "                  building  check_date                          email  fee  \\\n",
              "element id                                                                   \n",
              "way     36990873       yes  2025-02-01  general.museum@bristol.gov.uk   no   \n",
              "        97655812       yes         NaN                            NaN  NaN   \n",
              "        97655908       yes         NaN                            NaN  NaN   \n",
              "        186164176      yes         NaN                            NaN  NaN   \n",
              "        186167363      yes         NaN                            NaN  NaN   \n",
              "\n",
              "                                                name  ... proposed:shop  \\\n",
              "element id                                            ...                 \n",
              "way     36990873   Bristol City Museum & Art Gallery  ...           NaN   \n",
              "        97655812                             Brown's  ...           NaN   \n",
              "        97655908                     Little Waitrose  ...           NaN   \n",
              "        186164176                                NaN  ...           NaN   \n",
              "        186167363                                NaN  ...           NaN   \n",
              "\n",
              "                  short_name healthcare craft contact:facebook  \\\n",
              "element id                                                       \n",
              "way     36990873         NaN        NaN   NaN              NaN   \n",
              "        97655812         NaN        NaN   NaN              NaN   \n",
              "        97655908         NaN        NaN   NaN              NaN   \n",
              "        186164176        NaN        NaN   NaN              NaN   \n",
              "        186167363        NaN        NaN   NaN              NaN   \n",
              "\n",
              "                  contact:twitter denomination religion dispensing  \\\n",
              "element id                                                           \n",
              "way     36990873              NaN          NaN      NaN        NaN   \n",
              "        97655812              NaN          NaN      NaN        NaN   \n",
              "        97655908              NaN          NaN      NaN        NaN   \n",
              "        186164176             NaN          NaN      NaN        NaN   \n",
              "        186167363             NaN          NaN      NaN        NaN   \n",
              "\n",
              "                  drive_through  \n",
              "element id                       \n",
              "way     36990873            NaN  \n",
              "        97655812            NaN  \n",
              "        97655908            NaN  \n",
              "        186164176           NaN  \n",
              "        186167363           NaN  \n",
              "\n",
              "[5 rows x 68 columns]"
            ]
          },
          "execution_count": 110,
          "metadata": {},
          "output_type": "execute_result"
        }
      ],
      "source": [
        "filtered_buildings.head(5)"
      ]
    },
    {
      "cell_type": "markdown",
      "id": "0dd7f655-e8ff-406a-9824-7e760db62d4a",
      "metadata": {
        "id": "0dd7f655-e8ff-406a-9824-7e760db62d4a"
      },
      "source": [
        "Following code uses building footprints and extrude them to create a triangular mesh and add in Sionna scene one by one."
      ]
    },
    {
      "cell_type": "code",
      "execution_count": 111,
      "id": "20f171a3-a860-4092-9966-0f5fa3c7363b",
      "metadata": {
        "id": "20f171a3-a860-4092-9966-0f5fa3c7363b",
        "tags": []
      },
      "outputs": [],
      "source": [
        "buildings_list = filtered_buildings.to_dict('records')\n",
        "source_crs = pyproj.CRS(filtered_buildings.crs)\n",
        "target_crs = pyproj.CRS('EPSG:26915')\n",
        "transformer = pyproj.Transformer.from_crs(source_crs, target_crs, always_xy=True).transform\n",
        "for idx, building in enumerate(buildings_list):\n",
        "    # Convert building geometry to a shapely polygon\n",
        "    building_polygon = shape(building['geometry'])\n",
        "    if building_polygon.geom_type != 'Polygon':\n",
        "        continue\n",
        "    building_polygon = transform(transformer, building_polygon)\n",
        "    if math.isnan(float(building['building:levels'])):\n",
        "        building_height = 3.5\n",
        "    else:\n",
        "        building_height = int(building['building:levels']) * 3.5\n",
        "    z_coordinates = np.full(len(building_polygon.exterior.coords), 0)  # Assuming the initial Z coordinate is zmin\n",
        "    exterior_coords = building_polygon.exterior.coords\n",
        "    oriented_coords = list(exterior_coords)\n",
        "    # Ensure counterclockwise orientation\n",
        "    if building_polygon.exterior.is_ccw:\n",
        "        oriented_coords.reverse()\n",
        "    points = [(coord[0]-center_x, coord[1]-center_y) for coord in oriented_coords]\n",
        "    # bounding polygon\n",
        "    boundary_points_polydata = points_2d_to_poly(points, z_coordinates[0])\n",
        "    edge_polygon = boundary_points_polydata\n",
        "    footprint_plane = edge_polygon.delaunay_2d()\n",
        "    footprint_plane = footprint_plane.triangulate()\n",
        "    footprint_3D = footprint_plane.extrude((0, 0, building_height), capping=True)\n",
        "    footprint_3D.save(f\"{LOCATION_DIR}/mesh/building_{idx}.ply\")\n",
        "    local_mesh = o3d.io.read_triangle_mesh(f\"{LOCATION_DIR}/mesh/building_{idx}.ply\")\n",
        "    o3d.io.write_triangle_mesh(f\"{LOCATION_DIR}/mesh/building_{idx}.ply\", local_mesh)\n",
        "    material_type = \"mat-itu_marble\"\n",
        "    # Add shape elements for PLY files in the folder\n",
        "    sionna_shape = ET.SubElement(scene, \"shape\", type=\"ply\", id=f\"mesh-building_{idx}\")\n",
        "    ET.SubElement(sionna_shape, \"string\", name=\"filename\", value=f\"{LOCATION_DIR}/mesh/building_{idx}.ply\")\n",
        "    bsdf_ref = ET.SubElement(sionna_shape, \"ref\", id= material_type, name=\"bsdf\")\n",
        "    ET.SubElement(sionna_shape, \"boolean\", name=\"face_normals\",value=\"true\")"
      ]
    },
    {
      "cell_type": "markdown",
      "id": "779ca548-82b9-4ec9-9d25-539d879feb7f",
      "metadata": {
        "id": "779ca548-82b9-4ec9-9d25-539d879feb7f"
      },
      "source": [
        "#### Create Roads mesh and add to the scene"
      ]
    },
    {
      "cell_type": "code",
      "execution_count": 112,
      "id": "0aed4075-99c0-478d-853e-271a5b7cbabc",
      "metadata": {
        "id": "0aed4075-99c0-478d-853e-271a5b7cbabc",
        "tags": []
      },
      "outputs": [],
      "source": [
        "def convert_lane_to_numeric(lane):\n",
        "    try:\n",
        "        return int(lane)\n",
        "    except ValueError:\n",
        "        try:\n",
        "            return float(lane)\n",
        "        except ValueError:\n",
        "            return None\n",
        "\n",
        "        # Helper function to calculate edge geometry if missing\n",
        "def calculate_edge_geometry(u, v, data):\n",
        "    u_data = graph.nodes[u]\n",
        "    v_data = graph.nodes[v]\n",
        "    return LineString([(u_data['x'], u_data['y']), (v_data['x'], v_data['y'])])"
      ]
    },
    {
      "cell_type": "markdown",
      "id": "d893c4ff-07d7-470c-b7b8-ec66ffda6080",
      "metadata": {
        "id": "d893c4ff-07d7-470c-b7b8-ec66ffda6080"
      },
      "source": [
        "Get the road network linestring and plot"
      ]
    },
    {
      "cell_type": "code",
      "execution_count": 113,
      "id": "f7c8bbb0-86ec-4c4b-91fd-6cb115eebfc4",
      "metadata": {
        "colab": {
          "base_uri": "https://localhost:8080/",
          "height": 625
        },
        "id": "f7c8bbb0-86ec-4c4b-91fd-6cb115eebfc4",
        "outputId": "9c4399cf-85ab-49ac-bb3d-8ffb14fce081",
        "tags": []
      },
      "outputs": [
        {
          "data": {
            "image/png": "[encoded data removed]",
            "text/plain": [
              "<Figure size 800x800 with 1 Axes>"
            ]
          },
          "metadata": {},
          "output_type": "display_data"
        },
        {
          "data": {
            "text/plain": [
              "(<Figure size 800x800 with 1 Axes>, <Axes: >)"
            ]
          },
          "execution_count": 113,
          "metadata": {},
          "output_type": "execute_result"
        }
      ],
      "source": [
        "G = ox.graph_from_polygon(polygon = osm_polygon, simplify= False, retain_all=True,truncate_by_edge=True,network_type = 'all')\n",
        "graph = ox.project_graph(G, to_crs='epsg:26915')\n",
        "ox.plot_graph(graph)"
      ]
    },
    {
      "cell_type": "markdown",
      "id": "29d6c21d-990d-4e19-ad8a-5d56af7710ad",
      "metadata": {
        "id": "29d6c21d-990d-4e19-ad8a-5d56af7710ad"
      },
      "source": [
        "Now convert each line segment into road mesh using lanes as parameter to set road width"
      ]
    },
    {
      "cell_type": "code",
      "execution_count": 114,
      "id": "723494f3-f46b-45a7-95df-deb6c38187c9",
      "metadata": {
        "colab": {
          "base_uri": "https://localhost:8080/",
          "height": 51
        },
        "id": "723494f3-f46b-45a7-95df-deb6c38187c9",
        "outputId": "4fe20e89-9278-406c-d400-6032770546d3",
        "tags": []
      },
      "outputs": [
        {
          "data": {
            "text/html": [
              "<pre style=\"white-space:pre;overflow-x:auto;line-height:normal;font-family:Menlo,'DejaVu Sans Mono',consolas,'Courier New',monospace\"><span style=\"color: #808000; text-decoration-color: #808000; font-weight: bold\">Warning:</span><span style=\"color: #808000; text-decoration-color: #808000\"> PLY doesn't support </span><span style=\"color: #808000; text-decoration-color: #808000; font-weight: bold\">64</span><span style=\"color: #808000; text-decoration-color: #808000\">-bit integers. Casting down to </span><span style=\"color: #808000; text-decoration-color: #808000; font-weight: bold\">32</span><span style=\"color: #808000; text-decoration-color: #808000\">-bit.</span>\n",
              "</pre>\n"
            ],
            "text/plain": [
              "\u001b[1;33mWarning:\u001b[0m\u001b[33m PLY doesn't support \u001b[0m\u001b[1;33m64\u001b[0m\u001b[33m-bit integers. Casting down to \u001b[0m\u001b[1;33m32\u001b[0m\u001b[33m-bit.\u001b[0m\n"
            ]
          },
          "metadata": {},
          "output_type": "display_data"
        },
        {
          "data": {
            "text/plain": [
              "<Element 'boolean' at 0x7b26d4714f40>"
            ]
          },
          "execution_count": 114,
          "metadata": {},
          "output_type": "execute_result"
        }
      ],
      "source": [
        "# Create a list to store GeoDataFrames for each road segment\n",
        "gdf_roads_list = []\n",
        "# Set the fixed Z coordinate for the buffer polygons\n",
        "Z0 = .25  # You can adjust this value based on the desired elevation of the roads\n",
        "# Create a list to store the meshes\n",
        "mesh_list = []\n",
        "mesh_collection = pv.PolyData()\n",
        "# Iterate over each edge in the graph\n",
        "for u, v, key, data in graph.edges(keys=True, data=True):\n",
        "    # Check if the edge has geometry, otherwise create geometries from the nodes\n",
        "    if 'geometry' not in data:\n",
        "        data['geometry'] = calculate_edge_geometry(u, v, data)\n",
        "\n",
        "    # Get the lanes attribute for the edge\n",
        "    lanes = data.get('lanes', 1)  # Default to 1 lane if lanes attribute is not available\n",
        "\n",
        "    if not isinstance(lanes, list):\n",
        "        lanes = [lanes]\n",
        "\n",
        "    # Convert lane values to numeric (integers or floats) using the helper function\n",
        "    num_lanes = [convert_lane_to_numeric(lane) for lane in lanes]\n",
        "\n",
        "    # Filter out None values (representing non-numeric lanes) and calculate the road width\n",
        "    num_lanes = [lane for lane in num_lanes if lane is not None]\n",
        "    road_width = num_lanes[0] * 3.5\n",
        "    # Buffer the LineString with the road width and add Z coordinate\n",
        "    line_buffer = data['geometry'].buffer(road_width)\n",
        "    # Convert the buffer polygon to a PyVista mesh\n",
        "    exterior_coords = line_buffer.exterior.coords\n",
        "    z_coordinates = np.full(len(line_buffer.exterior.coords), Z0)\n",
        "    oriented_coords = list(exterior_coords)\n",
        "    # Ensure counterclockwise orientation\n",
        "    if line_buffer.exterior.is_ccw:\n",
        "        oriented_coords.reverse()\n",
        "    points = [(coord[0]-center_x, coord[1]-center_y) for coord in oriented_coords]\n",
        "    # bounding polygon\n",
        "    boundary_points_polydata = points_2d_to_poly(points, z_coordinates[0])\n",
        "    mesh = boundary_points_polydata.delaunay_2d()\n",
        "    # Add the mesh to the list\n",
        "    mesh_collection = mesh_collection + mesh\n",
        "    mesh_list.append(mesh)\n",
        "output_file = f\"{LOCATION_DIR}/mesh/road_mesh_combined.ply\"\n",
        "pv.save_meshio(output_file,mesh_collection)\n",
        "material_type = \"mat-itu_concrete\"\n",
        "# Add shape elements for PLY files in the folder\n",
        "sionna_shape = ET.SubElement(scene, \"shape\", type=\"ply\", id=f\"mesh-roads_{idx}\")\n",
        "ET.SubElement(sionna_shape, \"string\", name=\"filename\", value=f\"{LOCATION_DIR}/mesh/road_mesh_combined.ply\")\n",
        "bsdf_ref = ET.SubElement(sionna_shape, \"ref\", id= material_type, name=\"bsdf\")\n",
        "ET.SubElement(sionna_shape, \"boolean\", name=\"face_normals\",value=\"true\")"
      ]
    },
    {
      "cell_type": "markdown",
      "id": "664faea4-621d-4b7a-92d4-09a975b4cb53",
      "metadata": {
        "id": "664faea4-621d-4b7a-92d4-09a975b4cb53"
      },
      "source": [
        "##### Finally Save the scene file"
      ]
    },
    {
      "cell_type": "code",
      "execution_count": 115,
      "id": "b48985e9-519a-40e6-81b7-7e6775ba07f6",
      "metadata": {
        "id": "b48985e9-519a-40e6-81b7-7e6775ba07f6"
      },
      "outputs": [],
      "source": [
        "# Create and write the XML file\n",
        "tree = ET.ElementTree(scene)\n",
        "xml_string = ET.tostring(scene, encoding=\"utf-8\")\n",
        "xml_pretty = minidom.parseString(xml_string).toprettyxml(indent=\"    \")  # Adjust the indent as needed\n",
        "\n",
        "with open(f\"{LOCATION_DIR}/simple_OSM_scene.xml\", \"w\", encoding=\"utf-8\") as xml_file:\n",
        "    xml_file.write(xml_pretty)"
      ]
    },
    {
      "cell_type": "code",
      "execution_count": 115,
      "id": "776decdc-bf64-46a2-8696-12e910f23b51",
      "metadata": {
        "id": "776decdc-bf64-46a2-8696-12e910f23b51"
      },
      "outputs": [],
      "source": []
    }
  ],
  "metadata": {
    "colab": {
      "provenance": []
    },
    "kernelspec": {
      "display_name": "CondaEnv",
      "language": "python",
      "name": "condaenv"
    },
    "language_info": {
      "codemirror_mode": {
        "name": "ipython",
        "version": 3
      },
      "file_extension": ".py",
      "mimetype": "text/x-python",
      "name": "python",
      "nbconvert_exporter": "python",
      "pygments_lexer": "ipython3",
      "version": "3.10.10"
    },
    "widgets": {
      "application/vnd.jupyter.widget-state+json": {
        "b22ca5c28a9d4548ae58747f2a195d73": {
          "model_module": "jupyter-leaflet",
          "model_module_version": "^0.19",
          "model_name": "LeafletMapModel",
          "state": {
            "_dom_classes": [],
            "_model_module": "jupyter-leaflet",
            "_model_module_version": "^0.19",
            "_model_name": "LeafletMapModel",
            "_view_count": null,
            "_view_module": "jupyter-leaflet",
            "_view_module_version": "^0.19",
            "_view_name": "LeafletMapView",
            "bottom": 0,
            "bounce_at_zoom_limits": true,
            "box_zoom": true,
            "center": [
              51.455304,
              -2.601635
            ],
            "close_popup_on_click": true,
            "controls": [
              "IPY_MODEL_9a6642acddce47e792c1640d1872fc79",
              "IPY_MODEL_75afd891f5584215b18e4ea6d869249e",
              "IPY_MODEL_12e7cd024a6b4faca3b68940f6e7e9de"
            ],
            "crs": {
              "custom": false,
              "name": "EPSG3857"
            },
            "default_style": "IPY_MODEL_2a4340eed15c48d8800fb812a8e0c819",
            "double_click_zoom": true,
            "dragging": true,
            "dragging_style": "IPY_MODEL_cc1ea6788da14a6fbf2cda51e1fcf188",
            "east": 0,
            "fullscreen": false,
            "inertia": true,
            "inertia_deceleration": 3000,
            "inertia_max_speed": 1500,
            "interpolation": "bilinear",
            "keyboard": true,
            "keyboard_pan_offset": 80,
            "keyboard_zoom_offset": 1,
            "layers": [
              "IPY_MODEL_205765ba852d4eaeb308629ace170c7f"
            ],
            "layout": "IPY_MODEL_e7bfa434cc6a49548b33c60c839413d6",
            "left": 9007199254740991,
            "max_zoom": null,
            "min_zoom": null,
            "modisdate": "2025-02-02",
            "north": 0,
            "options": [
              "bounce_at_zoom_limits",
              "box_zoom",
              "center",
              "close_popup_on_click",
              "double_click_zoom",
              "dragging",
              "fullscreen",
              "inertia",
              "inertia_deceleration",
              "inertia_max_speed",
              "interpolation",
              "keyboard",
              "keyboard_pan_offset",
              "keyboard_zoom_offset",
              "max_zoom",
              "min_zoom",
              "prefer_canvas",
              "scroll_wheel_zoom",
              "tap",
              "tap_tolerance",
              "touch_zoom",
              "world_copy_jump",
              "zoom",
              "zoom_animation_threshold",
              "zoom_delta",
              "zoom_snap"
            ],
            "panes": {},
            "prefer_canvas": false,
            "right": 0,
            "scroll_wheel_zoom": false,
            "south": 0,
            "style": "IPY_MODEL_091ef87ae96244828d57ade67666a4f4",
            "tabbable": null,
            "tap": true,
            "tap_tolerance": 15,
            "tooltip": null,
            "top": 9007199254740991,
            "touch_zoom": true,
            "west": 0,
            "window_url": "",
            "world_copy_jump": false,
            "zoom": 16,
            "zoom_animation_threshold": 4,
            "zoom_delta": 1,
            "zoom_snap": 1
          }
        }
      }
    }
  },
  "nbformat": 4,
  "nbformat_minor": 5
}
